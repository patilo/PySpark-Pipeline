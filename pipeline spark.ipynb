{
 "cells": [
  {
   "cell_type": "code",
   "execution_count": null,
   "id": "4409f2e1-c9e1-495f-9a0e-917ae0af4299",
   "metadata": {},
   "outputs": [],
   "source": [
    "from pyspark.sql import SparkSession\n",
    "from pyspark.sql.functions import col, sum, avg\n",
    "\n",
    "# Crear una Spark Session\n",
    "spark = SparkSession.builder.appName(\"ETL Pipeline Example\").getOrCreate()"
   ]
  },
  {
   "cell_type": "code",
   "execution_count": null,
   "id": "4dcb5e52-fd5a-4d35-b75f-ef0e68fdf297",
   "metadata": {},
   "outputs": [],
   "source": [
    "# 1. EXTRAER DATOS (Read CSV)\n",
    "df = spark.read.csv(\"sales_data.csv\", header=True, inferSchema=True)\n",
    "\n",
    "# Mostrar los datos cargados\n",
    "df.show(5)"
   ]
  },
  {
   "cell_type": "code",
   "execution_count": null,
   "id": "189fa6e0-79b7-4974-a44b-a51da7b9f126",
   "metadata": {},
   "outputs": [],
   "source": [
    "# 2. TRANSFORMAR DATOS\n",
    "# Limpiar nulos\n",
    "clean_df = df.na.drop()\n",
    "\n",
    "# Calcular ventas totales por ciudad y producto\n",
    "agg_df = clean_df.groupBy(\"city\", \"product\").agg(\n",
    "    sum(\"total_sales\").alias(\"total_revenue\"),\n",
    "    avg(\"price_per_unit\").alias(\"avg_price\")\n",
    ")\n",
    "\n",
    "# Mostrar el DataFrame transformado\n",
    "agg_df.show()"
   ]
  },
  {
   "cell_type": "code",
   "execution_count": null,
   "id": "8c74c7de-05ec-4c99-9b70-5a4ba50f4f1a",
   "metadata": {},
   "outputs": [],
   "source": [
    "# 3. CARGAR DATOS (Guardar como parquet)\n",
    "agg_df.write.mode(\"overwrite\").parquet(\"processed_sales_data.parquet\")\n",
    "\n",
    "print(\"ETL Pipeline completado!\")"
   ]
  }
 ],
 "metadata": {
  "kernelspec": {
   "display_name": "Python [conda env:base] *",
   "language": "python",
   "name": "conda-base-py"
  },
  "language_info": {
   "codemirror_mode": {
    "name": "ipython",
    "version": 3
   },
   "file_extension": ".py",
   "mimetype": "text/x-python",
   "name": "python",
   "nbconvert_exporter": "python",
   "pygments_lexer": "ipython3",
   "version": "3.12.7"
  }
 },
 "nbformat": 4,
 "nbformat_minor": 5
}
