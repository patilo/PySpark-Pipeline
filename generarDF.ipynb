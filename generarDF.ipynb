{
 "cells": [
  {
   "cell_type": "code",
   "execution_count": 1,
   "id": "bc237441-371b-453d-a178-ab52a21cc27b",
   "metadata": {},
   "outputs": [],
   "source": [
    "import pandas as pd\n",
    "import numpy as np\n",
    "\n",
    "#Generar datos de ventas ficticios \n",
    "np.random.seed(42)\n",
    "dates = pd.date_range('2024-01-01', periods=100)\n",
    "products = ['Laptop', 'Mouse', 'Keyboard', 'Monitor', 'Headphones']\n",
    "cities = ['Santiago', 'Iquique', 'Antofagasta', 'Valparaíso', 'Concepción']\n",
    "\n",
    "data = {\n",
    "    'date': np.random.choice(dates, size=100),\n",
    "    'product': np.random.choice(products, size=100),\n",
    "    'city': np.random.choice(cities, size=100),\n",
    "    'quantity': np.random.randint(1, 10, size=100),\n",
    "    'price_per_unit': np.round(np.random.uniform(50, 500, size=100), 2)\n",
    "}\n",
    "\n",
    "df = pd.DataFrame(data)\n",
    "df['total_sales'] = df['quantity'] * df['price_per_unit']\n"
   ]
  },
  {
   "cell_type": "code",
   "execution_count": 9,
   "id": "a97ebb9b-cac4-4ebe-8460-2cf31f24cc03",
   "metadata": {},
   "outputs": [
    {
     "data": {
      "text/plain": [
       "'/Users/sdh19/ml/dataset/sales_data_FD.csv'"
      ]
     },
     "execution_count": 9,
     "metadata": {},
     "output_type": "execute_result"
    }
   ],
   "source": [
    "# Guardar dataset como CSV, podemos seleccionar la ruta en mi caso usare mi repo\n",
    "csv_path = '/Users/sdh19/ml/dataset/sales_data_FD.csv'\n",
    "df.to_csv(csv_path, index=False)\n",
    "\n",
    "csv_path"
   ]
  }
 ],
 "metadata": {
  "kernelspec": {
   "display_name": "Python [conda env:base] *",
   "language": "python",
   "name": "conda-base-py"
  },
  "language_info": {
   "codemirror_mode": {
    "name": "ipython",
    "version": 3
   },
   "file_extension": ".py",
   "mimetype": "text/x-python",
   "name": "python",
   "nbconvert_exporter": "python",
   "pygments_lexer": "ipython3",
   "version": "3.12.7"
  }
 },
 "nbformat": 4,
 "nbformat_minor": 5
}
